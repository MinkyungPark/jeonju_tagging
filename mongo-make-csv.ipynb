{
 "cells": [
  {
   "cell_type": "code",
   "execution_count": 1,
   "source": [
    "import pandas as pd\n",
    "df = pd.read_csv('./boolocally_poi/선별 테마와 비교-표 1.csv')\n",
    "df.head()"
   ],
   "outputs": [
    {
     "output_type": "execute_result",
     "data": {
      "text/plain": [
       "      POI                         커스텀맵 주제 커스텀맵 주제.1 커스텀맵 주제.2 운영팀 테마3  \\\n",
       "0    1723  고요한 쉼의 공간, 소박한 마당이 있는 전주 한옥 카페        한옥       음식점      카페   \n",
       "1  외할머니솜씨  고요한 쉼의 공간, 소박한 마당이 있는 전주 한옥 카페        한옥       음식점      카페   \n",
       "2  목련을부탁해  고요한 쉼의 공간, 소박한 마당이 있는 전주 한옥 카페        한옥       음식점      카페   \n",
       "3     명천재  고요한 쉼의 공간, 소박한 마당이 있는 전주 한옥 카페        한옥       음식점      카페   \n",
       "4      차경  고요한 쉼의 공간, 소박한 마당이 있는 전주 한옥 카페        한옥       음식점      카페   \n",
       "\n",
       "   태그 추출 태그 top3  태그 추출 상세  태그 관련 하위어 점수  \n",
       "0            NaN       NaN           NaN  \n",
       "1            NaN       NaN           NaN  \n",
       "2            NaN       NaN           NaN  \n",
       "3            NaN       NaN           NaN  \n",
       "4            NaN       NaN           NaN  "
      ],
      "text/html": [
       "<div>\n",
       "<style scoped>\n",
       "    .dataframe tbody tr th:only-of-type {\n",
       "        vertical-align: middle;\n",
       "    }\n",
       "\n",
       "    .dataframe tbody tr th {\n",
       "        vertical-align: top;\n",
       "    }\n",
       "\n",
       "    .dataframe thead th {\n",
       "        text-align: right;\n",
       "    }\n",
       "</style>\n",
       "<table border=\"1\" class=\"dataframe\">\n",
       "  <thead>\n",
       "    <tr style=\"text-align: right;\">\n",
       "      <th></th>\n",
       "      <th>POI</th>\n",
       "      <th>커스텀맵 주제</th>\n",
       "      <th>커스텀맵 주제.1</th>\n",
       "      <th>커스텀맵 주제.2</th>\n",
       "      <th>운영팀 테마3</th>\n",
       "      <th>태그 추출 태그 top3</th>\n",
       "      <th>태그 추출 상세</th>\n",
       "      <th>태그 관련 하위어 점수</th>\n",
       "    </tr>\n",
       "  </thead>\n",
       "  <tbody>\n",
       "    <tr>\n",
       "      <th>0</th>\n",
       "      <td>1723</td>\n",
       "      <td>고요한 쉼의 공간, 소박한 마당이 있는 전주 한옥 카페</td>\n",
       "      <td>한옥</td>\n",
       "      <td>음식점</td>\n",
       "      <td>카페</td>\n",
       "      <td>NaN</td>\n",
       "      <td>NaN</td>\n",
       "      <td>NaN</td>\n",
       "    </tr>\n",
       "    <tr>\n",
       "      <th>1</th>\n",
       "      <td>외할머니솜씨</td>\n",
       "      <td>고요한 쉼의 공간, 소박한 마당이 있는 전주 한옥 카페</td>\n",
       "      <td>한옥</td>\n",
       "      <td>음식점</td>\n",
       "      <td>카페</td>\n",
       "      <td>NaN</td>\n",
       "      <td>NaN</td>\n",
       "      <td>NaN</td>\n",
       "    </tr>\n",
       "    <tr>\n",
       "      <th>2</th>\n",
       "      <td>목련을부탁해</td>\n",
       "      <td>고요한 쉼의 공간, 소박한 마당이 있는 전주 한옥 카페</td>\n",
       "      <td>한옥</td>\n",
       "      <td>음식점</td>\n",
       "      <td>카페</td>\n",
       "      <td>NaN</td>\n",
       "      <td>NaN</td>\n",
       "      <td>NaN</td>\n",
       "    </tr>\n",
       "    <tr>\n",
       "      <th>3</th>\n",
       "      <td>명천재</td>\n",
       "      <td>고요한 쉼의 공간, 소박한 마당이 있는 전주 한옥 카페</td>\n",
       "      <td>한옥</td>\n",
       "      <td>음식점</td>\n",
       "      <td>카페</td>\n",
       "      <td>NaN</td>\n",
       "      <td>NaN</td>\n",
       "      <td>NaN</td>\n",
       "    </tr>\n",
       "    <tr>\n",
       "      <th>4</th>\n",
       "      <td>차경</td>\n",
       "      <td>고요한 쉼의 공간, 소박한 마당이 있는 전주 한옥 카페</td>\n",
       "      <td>한옥</td>\n",
       "      <td>음식점</td>\n",
       "      <td>카페</td>\n",
       "      <td>NaN</td>\n",
       "      <td>NaN</td>\n",
       "      <td>NaN</td>\n",
       "    </tr>\n",
       "  </tbody>\n",
       "</table>\n",
       "</div>"
      ]
     },
     "metadata": {},
     "execution_count": 1
    }
   ],
   "metadata": {}
  },
  {
   "cell_type": "code",
   "execution_count": 4,
   "source": [
    "len(df)"
   ],
   "outputs": [
    {
     "output_type": "execute_result",
     "data": {
      "text/plain": [
       "174"
      ]
     },
     "metadata": {},
     "execution_count": 4
    }
   ],
   "metadata": {}
  },
  {
   "cell_type": "code",
   "execution_count": 2,
   "source": [
    "poi_names = df['POI'].tolist()\n",
    "poi_names[:2]"
   ],
   "outputs": [
    {
     "output_type": "execute_result",
     "data": {
      "text/plain": [
       "['1723', '외할머니솜씨']"
      ]
     },
     "metadata": {},
     "execution_count": 2
    }
   ],
   "metadata": {}
  },
  {
   "cell_type": "code",
   "execution_count": 3,
   "source": [
    "from dbConn.postgresConn import get_select\n",
    "# 네이버네임\n",
    "\n",
    "no_result = []\n",
    "a, b, c = [], [], []\n",
    "for poi_name in poi_names:\n",
    "    query = f\"\"\"select analyzed_json from scrapping.scrapping.instagram_location where naver_name like '%{poi_name}%' and analyzed_json is not null;\"\"\"\n",
    "    result = get_select(query)\n",
    "    best_result = {'num_of_documents': -1}\n",
    "    for (json_data, ) in result:\n",
    "        if json_data and json_data['num_of_documents'] > best_result['num_of_documents']:\n",
    "            best_result = json_data\n",
    "    if best_result['num_of_documents'] != -1:\n",
    "        a.append(best_result['top_tags'])\n",
    "        b.append(sorted(best_result['tags_score'].items(), key=lambda x: -x[1]))\n",
    "        c.append(best_result['tags_hyponym'])\n",
    "    else:\n",
    "        a.append(None)\n",
    "        b.append(None)\n",
    "        c.append(None)"
   ],
   "outputs": [],
   "metadata": {}
  },
  {
   "cell_type": "code",
   "execution_count": 22,
   "source": [
    "no_result"
   ],
   "outputs": [
    {
     "output_type": "execute_result",
     "data": {
      "text/plain": [
       "[]"
      ]
     },
     "metadata": {},
     "execution_count": 22
    }
   ],
   "metadata": {}
  },
  {
   "cell_type": "code",
   "execution_count": 5,
   "source": [
    "len(a)"
   ],
   "outputs": [
    {
     "output_type": "execute_result",
     "data": {
      "text/plain": [
       "174"
      ]
     },
     "metadata": {},
     "execution_count": 5
    }
   ],
   "metadata": {}
  },
  {
   "cell_type": "code",
   "execution_count": 6,
   "source": [
    "df['태그 추출 태그 top3'] = pd.Series(a)\n",
    "df['태그 추출 상세'] = pd.Series(b)\n",
    "df['태그 관련 하위어 점수'] = pd.Series(c)"
   ],
   "outputs": [],
   "metadata": {}
  },
  {
   "cell_type": "code",
   "execution_count": 7,
   "source": [
    "df.head()"
   ],
   "outputs": [
    {
     "output_type": "execute_result",
     "data": {
      "text/plain": [
       "      POI                         커스텀맵 주제 커스텀맵 주제.1 커스텀맵 주제.2 운영팀 테마3  \\\n",
       "0    1723  고요한 쉼의 공간, 소박한 마당이 있는 전주 한옥 카페        한옥       음식점      카페   \n",
       "1  외할머니솜씨  고요한 쉼의 공간, 소박한 마당이 있는 전주 한옥 카페        한옥       음식점      카페   \n",
       "2  목련을부탁해  고요한 쉼의 공간, 소박한 마당이 있는 전주 한옥 카페        한옥       음식점      카페   \n",
       "3     명천재  고요한 쉼의 공간, 소박한 마당이 있는 전주 한옥 카페        한옥       음식점      카페   \n",
       "4      차경  고요한 쉼의 공간, 소박한 마당이 있는 전주 한옥 카페        한옥       음식점      카페   \n",
       "\n",
       "   태그 추출 태그 top3                                           태그 추출 상세  \\\n",
       "0  [디저트, 카페, 맛집]  [(디저트, 29.452240731321222), (카페, 24.0831700240...   \n",
       "1   [맛집, 카페, 연인]  [(맛집, 29.24147610299455), (카페, 28.382306190403...   \n",
       "2  [디저트, 카페, 연인]  [(디저트, 27.792656593998927), (카페, 23.1400884090...   \n",
       "3           None                                               None   \n",
       "4  [디저트, 카페, 사진]  [(디저트, 6.1306463716079005), (카페, 5.83110373842...   \n",
       "\n",
       "                                        태그 관련 하위어 점수  \n",
       "0  {'가족': {'가족': 0.39044788707327016}, '맛집': {'맛집...  \n",
       "1  {'가족': {'가족': 0.523418189740747, '기념': 0.20310...  \n",
       "2  {'맛집': {'맛집': 1.3035088621353879, '먹방': 0.8450...  \n",
       "3                                               None  \n",
       "4  {'노을': {'풍경': 0.9464083380511845}, '등산': {'단풍'...  "
      ],
      "text/html": [
       "<div>\n",
       "<style scoped>\n",
       "    .dataframe tbody tr th:only-of-type {\n",
       "        vertical-align: middle;\n",
       "    }\n",
       "\n",
       "    .dataframe tbody tr th {\n",
       "        vertical-align: top;\n",
       "    }\n",
       "\n",
       "    .dataframe thead th {\n",
       "        text-align: right;\n",
       "    }\n",
       "</style>\n",
       "<table border=\"1\" class=\"dataframe\">\n",
       "  <thead>\n",
       "    <tr style=\"text-align: right;\">\n",
       "      <th></th>\n",
       "      <th>POI</th>\n",
       "      <th>커스텀맵 주제</th>\n",
       "      <th>커스텀맵 주제.1</th>\n",
       "      <th>커스텀맵 주제.2</th>\n",
       "      <th>운영팀 테마3</th>\n",
       "      <th>태그 추출 태그 top3</th>\n",
       "      <th>태그 추출 상세</th>\n",
       "      <th>태그 관련 하위어 점수</th>\n",
       "    </tr>\n",
       "  </thead>\n",
       "  <tbody>\n",
       "    <tr>\n",
       "      <th>0</th>\n",
       "      <td>1723</td>\n",
       "      <td>고요한 쉼의 공간, 소박한 마당이 있는 전주 한옥 카페</td>\n",
       "      <td>한옥</td>\n",
       "      <td>음식점</td>\n",
       "      <td>카페</td>\n",
       "      <td>[디저트, 카페, 맛집]</td>\n",
       "      <td>[(디저트, 29.452240731321222), (카페, 24.0831700240...</td>\n",
       "      <td>{'가족': {'가족': 0.39044788707327016}, '맛집': {'맛집...</td>\n",
       "    </tr>\n",
       "    <tr>\n",
       "      <th>1</th>\n",
       "      <td>외할머니솜씨</td>\n",
       "      <td>고요한 쉼의 공간, 소박한 마당이 있는 전주 한옥 카페</td>\n",
       "      <td>한옥</td>\n",
       "      <td>음식점</td>\n",
       "      <td>카페</td>\n",
       "      <td>[맛집, 카페, 연인]</td>\n",
       "      <td>[(맛집, 29.24147610299455), (카페, 28.382306190403...</td>\n",
       "      <td>{'가족': {'가족': 0.523418189740747, '기념': 0.20310...</td>\n",
       "    </tr>\n",
       "    <tr>\n",
       "      <th>2</th>\n",
       "      <td>목련을부탁해</td>\n",
       "      <td>고요한 쉼의 공간, 소박한 마당이 있는 전주 한옥 카페</td>\n",
       "      <td>한옥</td>\n",
       "      <td>음식점</td>\n",
       "      <td>카페</td>\n",
       "      <td>[디저트, 카페, 연인]</td>\n",
       "      <td>[(디저트, 27.792656593998927), (카페, 23.1400884090...</td>\n",
       "      <td>{'맛집': {'맛집': 1.3035088621353879, '먹방': 0.8450...</td>\n",
       "    </tr>\n",
       "    <tr>\n",
       "      <th>3</th>\n",
       "      <td>명천재</td>\n",
       "      <td>고요한 쉼의 공간, 소박한 마당이 있는 전주 한옥 카페</td>\n",
       "      <td>한옥</td>\n",
       "      <td>음식점</td>\n",
       "      <td>카페</td>\n",
       "      <td>None</td>\n",
       "      <td>None</td>\n",
       "      <td>None</td>\n",
       "    </tr>\n",
       "    <tr>\n",
       "      <th>4</th>\n",
       "      <td>차경</td>\n",
       "      <td>고요한 쉼의 공간, 소박한 마당이 있는 전주 한옥 카페</td>\n",
       "      <td>한옥</td>\n",
       "      <td>음식점</td>\n",
       "      <td>카페</td>\n",
       "      <td>[디저트, 카페, 사진]</td>\n",
       "      <td>[(디저트, 6.1306463716079005), (카페, 5.83110373842...</td>\n",
       "      <td>{'노을': {'풍경': 0.9464083380511845}, '등산': {'단풍'...</td>\n",
       "    </tr>\n",
       "  </tbody>\n",
       "</table>\n",
       "</div>"
      ]
     },
     "metadata": {},
     "execution_count": 7
    }
   ],
   "metadata": {}
  },
  {
   "cell_type": "code",
   "execution_count": 8,
   "source": [
    "df.to_csv('./boolocally_poi_tags.csv', index=False, encoding='utf-8')"
   ],
   "outputs": [],
   "metadata": {}
  }
 ],
 "metadata": {
  "orig_nbformat": 4,
  "language_info": {
   "name": "python",
   "version": "3.8.8",
   "mimetype": "text/x-python",
   "codemirror_mode": {
    "name": "ipython",
    "version": 3
   },
   "pygments_lexer": "ipython3",
   "nbconvert_exporter": "python",
   "file_extension": ".py"
  },
  "kernelspec": {
   "name": "python3",
   "display_name": "Python 3.8.8 64-bit ('py3env': conda)"
  },
  "interpreter": {
   "hash": "8c300b68f87a0b34854b9c17a7a0f528a75fc09066f8445722564eb05533ed98"
  }
 },
 "nbformat": 4,
 "nbformat_minor": 2
}