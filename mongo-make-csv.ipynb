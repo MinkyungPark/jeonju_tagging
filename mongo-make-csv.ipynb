{
 "cells": [
  {
   "cell_type": "code",
   "execution_count": 1,
   "source": [
    "import pandas as pd\n",
    "df = pd.read_csv('./boolocally_poi/선별 테마와 비교-표 1.csv')\n",
    "df.head()"
   ],
   "outputs": [
    {
     "output_type": "execute_result",
     "data": {
      "text/plain": [
       "       POI                         커스텀맵 주제 커스텀맵 주제.1 커스텀맵 주제.2 운영팀 테마3  \\\n",
       "0     1723  고요한 쉼의 공간, 소박한 마당이 있는 전주 한옥 카페        한옥       음식점      카페   \n",
       "1   외할머니솜씨  고요한 쉼의 공간, 소박한 마당이 있는 전주 한옥 카페        한옥       음식점      카페   \n",
       "2  목련을 부탁해  고요한 쉼의 공간, 소박한 마당이 있는 전주 한옥 카페        한옥       음식점      카페   \n",
       "3      명천재  고요한 쉼의 공간, 소박한 마당이 있는 전주 한옥 카페        한옥       음식점      카페   \n",
       "4       차경  고요한 쉼의 공간, 소박한 마당이 있는 전주 한옥 카페        한옥       음식점      카페   \n",
       "\n",
       "   태그 추출 태그 top3  태그 추출 상세  태그 관련 하위어 점수  \n",
       "0            NaN       NaN           NaN  \n",
       "1            NaN       NaN           NaN  \n",
       "2            NaN       NaN           NaN  \n",
       "3            NaN       NaN           NaN  \n",
       "4            NaN       NaN           NaN  "
      ],
      "text/html": [
       "<div>\n",
       "<style scoped>\n",
       "    .dataframe tbody tr th:only-of-type {\n",
       "        vertical-align: middle;\n",
       "    }\n",
       "\n",
       "    .dataframe tbody tr th {\n",
       "        vertical-align: top;\n",
       "    }\n",
       "\n",
       "    .dataframe thead th {\n",
       "        text-align: right;\n",
       "    }\n",
       "</style>\n",
       "<table border=\"1\" class=\"dataframe\">\n",
       "  <thead>\n",
       "    <tr style=\"text-align: right;\">\n",
       "      <th></th>\n",
       "      <th>POI</th>\n",
       "      <th>커스텀맵 주제</th>\n",
       "      <th>커스텀맵 주제.1</th>\n",
       "      <th>커스텀맵 주제.2</th>\n",
       "      <th>운영팀 테마3</th>\n",
       "      <th>태그 추출 태그 top3</th>\n",
       "      <th>태그 추출 상세</th>\n",
       "      <th>태그 관련 하위어 점수</th>\n",
       "    </tr>\n",
       "  </thead>\n",
       "  <tbody>\n",
       "    <tr>\n",
       "      <th>0</th>\n",
       "      <td>1723</td>\n",
       "      <td>고요한 쉼의 공간, 소박한 마당이 있는 전주 한옥 카페</td>\n",
       "      <td>한옥</td>\n",
       "      <td>음식점</td>\n",
       "      <td>카페</td>\n",
       "      <td>NaN</td>\n",
       "      <td>NaN</td>\n",
       "      <td>NaN</td>\n",
       "    </tr>\n",
       "    <tr>\n",
       "      <th>1</th>\n",
       "      <td>외할머니솜씨</td>\n",
       "      <td>고요한 쉼의 공간, 소박한 마당이 있는 전주 한옥 카페</td>\n",
       "      <td>한옥</td>\n",
       "      <td>음식점</td>\n",
       "      <td>카페</td>\n",
       "      <td>NaN</td>\n",
       "      <td>NaN</td>\n",
       "      <td>NaN</td>\n",
       "    </tr>\n",
       "    <tr>\n",
       "      <th>2</th>\n",
       "      <td>목련을 부탁해</td>\n",
       "      <td>고요한 쉼의 공간, 소박한 마당이 있는 전주 한옥 카페</td>\n",
       "      <td>한옥</td>\n",
       "      <td>음식점</td>\n",
       "      <td>카페</td>\n",
       "      <td>NaN</td>\n",
       "      <td>NaN</td>\n",
       "      <td>NaN</td>\n",
       "    </tr>\n",
       "    <tr>\n",
       "      <th>3</th>\n",
       "      <td>명천재</td>\n",
       "      <td>고요한 쉼의 공간, 소박한 마당이 있는 전주 한옥 카페</td>\n",
       "      <td>한옥</td>\n",
       "      <td>음식점</td>\n",
       "      <td>카페</td>\n",
       "      <td>NaN</td>\n",
       "      <td>NaN</td>\n",
       "      <td>NaN</td>\n",
       "    </tr>\n",
       "    <tr>\n",
       "      <th>4</th>\n",
       "      <td>차경</td>\n",
       "      <td>고요한 쉼의 공간, 소박한 마당이 있는 전주 한옥 카페</td>\n",
       "      <td>한옥</td>\n",
       "      <td>음식점</td>\n",
       "      <td>카페</td>\n",
       "      <td>NaN</td>\n",
       "      <td>NaN</td>\n",
       "      <td>NaN</td>\n",
       "    </tr>\n",
       "  </tbody>\n",
       "</table>\n",
       "</div>"
      ]
     },
     "metadata": {},
     "execution_count": 1
    }
   ],
   "metadata": {}
  },
  {
   "cell_type": "code",
   "execution_count": 2,
   "source": [
    "poi_names = df['POI'].tolist()\n",
    "poi_names[:2]"
   ],
   "outputs": [
    {
     "output_type": "execute_result",
     "data": {
      "text/plain": [
       "['1723', '외할머니솜씨']"
      ]
     },
     "metadata": {},
     "execution_count": 2
    }
   ],
   "metadata": {}
  },
  {
   "cell_type": "code",
   "execution_count": 10,
   "source": [
    "from dbConn.postgresConn import get_select\n",
    "# 네이버네임\n",
    "\n",
    "no_result = []\n",
    "a, b, c = [], [], []\n",
    "for poi_name in poi_names:\n",
    "    query = f\"\"\"select analyzed_json from scrapping.scrapping.instagram_location where naver_name like '%{poi_name}%'\"\"\"\n",
    "    result = get_select(query)\n",
    "    if result:\n",
    "        a.append(result[0][0]['top_tags'])\n",
    "        b.append([result[0][0]['tags_score']])\n",
    "        c.append([result[0][0]['tags_hyponym']])\n",
    "    else:\n",
    "        a.append(None)\n",
    "        b.append(None)\n",
    "        c.append(None)\n",
    "        no_result.append(poi_name)"
   ],
   "outputs": [
    {
     "output_type": "error",
     "ename": "TypeError",
     "evalue": "'NoneType' object is not subscriptable",
     "traceback": [
      "\u001b[0;31m---------------------------------------------------------------------------\u001b[0m",
      "\u001b[0;31mTypeError\u001b[0m                                 Traceback (most recent call last)",
      "\u001b[0;32m<ipython-input-10-57a319e48122>\u001b[0m in \u001b[0;36m<module>\u001b[0;34m\u001b[0m\n\u001b[1;32m      9\u001b[0m     \u001b[0mresult\u001b[0m \u001b[0;34m=\u001b[0m \u001b[0;34m[\u001b[0m\u001b[0mr\u001b[0m \u001b[0;32mfor\u001b[0m \u001b[0mr\u001b[0m \u001b[0;32min\u001b[0m \u001b[0mresult\u001b[0m \u001b[0;32mif\u001b[0m \u001b[0mr\u001b[0m\u001b[0;34m]\u001b[0m\u001b[0;34m\u001b[0m\u001b[0;34m\u001b[0m\u001b[0m\n\u001b[1;32m     10\u001b[0m     \u001b[0;32mif\u001b[0m \u001b[0mresult\u001b[0m\u001b[0;34m:\u001b[0m\u001b[0;34m\u001b[0m\u001b[0;34m\u001b[0m\u001b[0m\n\u001b[0;32m---> 11\u001b[0;31m         \u001b[0ma\u001b[0m\u001b[0;34m.\u001b[0m\u001b[0mappend\u001b[0m\u001b[0;34m(\u001b[0m\u001b[0mresult\u001b[0m\u001b[0;34m[\u001b[0m\u001b[0;36m0\u001b[0m\u001b[0;34m]\u001b[0m\u001b[0;34m[\u001b[0m\u001b[0;36m0\u001b[0m\u001b[0;34m]\u001b[0m\u001b[0;34m[\u001b[0m\u001b[0;34m'top_tags'\u001b[0m\u001b[0;34m]\u001b[0m\u001b[0;34m)\u001b[0m\u001b[0;34m\u001b[0m\u001b[0;34m\u001b[0m\u001b[0m\n\u001b[0m\u001b[1;32m     12\u001b[0m         \u001b[0mb\u001b[0m\u001b[0;34m.\u001b[0m\u001b[0mappend\u001b[0m\u001b[0;34m(\u001b[0m\u001b[0;34m[\u001b[0m\u001b[0mresult\u001b[0m\u001b[0;34m[\u001b[0m\u001b[0;36m0\u001b[0m\u001b[0;34m]\u001b[0m\u001b[0;34m[\u001b[0m\u001b[0;36m0\u001b[0m\u001b[0;34m]\u001b[0m\u001b[0;34m[\u001b[0m\u001b[0;34m'tags_score'\u001b[0m\u001b[0;34m]\u001b[0m\u001b[0;34m]\u001b[0m\u001b[0;34m)\u001b[0m\u001b[0;34m\u001b[0m\u001b[0;34m\u001b[0m\u001b[0m\n\u001b[1;32m     13\u001b[0m         \u001b[0mc\u001b[0m\u001b[0;34m.\u001b[0m\u001b[0mappend\u001b[0m\u001b[0;34m(\u001b[0m\u001b[0;34m[\u001b[0m\u001b[0mresult\u001b[0m\u001b[0;34m[\u001b[0m\u001b[0;36m0\u001b[0m\u001b[0;34m]\u001b[0m\u001b[0;34m[\u001b[0m\u001b[0;36m0\u001b[0m\u001b[0;34m]\u001b[0m\u001b[0;34m[\u001b[0m\u001b[0;34m'tags_hyponym'\u001b[0m\u001b[0;34m]\u001b[0m\u001b[0;34m]\u001b[0m\u001b[0;34m)\u001b[0m\u001b[0;34m\u001b[0m\u001b[0;34m\u001b[0m\u001b[0m\n",
      "\u001b[0;31mTypeError\u001b[0m: 'NoneType' object is not subscriptable"
     ]
    }
   ],
   "metadata": {}
  },
  {
   "cell_type": "code",
   "execution_count": 8,
   "source": [
    "no_result"
   ],
   "outputs": [
    {
     "output_type": "execute_result",
     "data": {
      "text/plain": [
       "['무명씨네']"
      ]
     },
     "metadata": {},
     "execution_count": 8
    }
   ],
   "metadata": {}
  },
  {
   "cell_type": "code",
   "execution_count": null,
   "source": [],
   "outputs": [],
   "metadata": {}
  },
  {
   "cell_type": "code",
   "execution_count": 12,
   "source": [
    "len(c)"
   ],
   "outputs": [
    {
     "output_type": "execute_result",
     "data": {
      "text/plain": [
       "692"
      ]
     },
     "metadata": {},
     "execution_count": 12
    }
   ],
   "metadata": {}
  },
  {
   "cell_type": "code",
   "execution_count": null,
   "source": [
    "df['태그 추출 태그 top3'] = pd.Series(a)\n",
    "df['태그 추출 상세'] = pd.Series(b)\n",
    "df['태그 관련 하위어 점수'] = pd.Series(a)"
   ],
   "outputs": [],
   "metadata": {}
  }
 ],
 "metadata": {
  "orig_nbformat": 4,
  "language_info": {
   "name": "python",
   "version": "3.8.8",
   "mimetype": "text/x-python",
   "codemirror_mode": {
    "name": "ipython",
    "version": 3
   },
   "pygments_lexer": "ipython3",
   "nbconvert_exporter": "python",
   "file_extension": ".py"
  },
  "kernelspec": {
   "name": "python3",
   "display_name": "Python 3.8.8 64-bit ('py3env': conda)"
  },
  "interpreter": {
   "hash": "8c300b68f87a0b34854b9c17a7a0f528a75fc09066f8445722564eb05533ed98"
  }
 },
 "nbformat": 4,
 "nbformat_minor": 2
}