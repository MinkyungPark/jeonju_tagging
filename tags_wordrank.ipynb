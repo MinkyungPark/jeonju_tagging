{
 "cells": [
  {
   "cell_type": "code",
   "execution_count": 1,
   "source": [
    "import re\n",
    "import pickle\n",
    "from collections import defaultdict\n",
    "from tqdm import tqdm\n",
    "\n",
    "import pandas as pd\n",
    "\n",
    "from dbConn.get_query import get_select\n",
    "from modules.cleaning import cleaning"
   ],
   "outputs": [],
   "metadata": {}
  },
  {
   "cell_type": "code",
   "execution_count": 2,
   "source": [
    "query = f\"select pk, location_pk, content, hashtag \\\n",
    "    from scrapping.scrapping.instagram_post where hashtag != '라이크어로컬' and location_pk notnull;\"\n",
    "posts = get_select(query)"
   ],
   "outputs": [],
   "metadata": {}
  },
  {
   "cell_type": "code",
   "execution_count": 3,
   "source": [
    "query = f\"select post_pk, content \\\n",
    "    from scrapping.scrapping.instagram_comment;\"\n",
    "comments = get_select(query)"
   ],
   "outputs": [],
   "metadata": {}
  },
  {
   "cell_type": "code",
   "execution_count": 4,
   "source": [
    "post_pk_comments = defaultdict(list)\n",
    "for (post_pk, content, ) in comments:\n",
    "    post_pk_comments[post_pk].append(content)"
   ],
   "outputs": [],
   "metadata": {}
  },
  {
   "cell_type": "code",
   "execution_count": 5,
   "source": [
    "with open(\"./stopwords.txt\", \"r\") as f:\n",
    "    stopwords = f.read().splitlines()\n",
    "\n",
    "\n",
    "def get_hashtag(sentence):\n",
    "    if sentence:\n",
    "        pattern = \"#([0-9a-zA-Z가-힣]*)\"\n",
    "        hash_w = re.compile(pattern)\n",
    "        return hash_w.findall(sentence)\n",
    "    else:\n",
    "        return []\n",
    "\n",
    "\n",
    "def get_content_hashtag(posts):\n",
    "    pk_content_hashtag = defaultdict(dict)\n",
    "    for (\n",
    "        pk,\n",
    "        location_pk,\n",
    "        content,\n",
    "        _,\n",
    "    ) in tqdm(posts):\n",
    "        get_tag_content = get_hashtag(content)\n",
    "        all_comments = ' '.join(post_pk_comments[pk])\n",
    "        get_tag_comment = get_hashtag(all_comments)\n",
    "        all_tags = get_tag_content + get_tag_comment\n",
    "\n",
    "        cleaned_tags = cleaning(\" \".join(all_tags))\n",
    "        if cleaned_tags:\n",
    "            pk_content_hashtag[pk][\"hashtag\"] = cleaning(\" \".join(all_tags))\n",
    "        else:\n",
    "            pk_content_hashtag[pk][\"hashtag\"] = \"\"\n",
    "\n",
    "        cleaned = cleaning(content)  # Cleaning\n",
    "        if cleaned:\n",
    "            pk_content_hashtag[pk][\"content\"] = cleaned\n",
    "        else:\n",
    "            pk_content_hashtag[pk][\"content\"] = \"\"\n",
    "\n",
    "        if (\n",
    "            not pk_content_hashtag[pk][\"content\"]\n",
    "            and not pk_content_hashtag[pk][\"hashtag\"]\n",
    "        ):\n",
    "            del pk_content_hashtag[pk]\n",
    "\n",
    "        else:\n",
    "            pk_content_hashtag[pk]['pk'] = pk\n",
    "            pk_content_hashtag[pk]['location_pk'] = location_pk\n",
    "\n",
    "    for pk, dic in pk_content_hashtag.items():\n",
    "        joined = dic[\"content\"] + \" \" + dic[\"hashtag\"]\n",
    "        # joined = [word for word in joined.split() if not (word in stopwords)]\n",
    "        pk_content_hashtag[pk]['join'] = joined.strip()\n",
    "\n",
    "    if not pk_content_hashtag[pk]['join']:\n",
    "        del pk_content_hashtag[pk]\n",
    "        \n",
    "    return pk_content_hashtag"
   ],
   "outputs": [],
   "metadata": {}
  },
  {
   "cell_type": "code",
   "execution_count": 6,
   "source": [
    "# pk_content_hashtag = get_content_hashtag(posts)\n",
    "\n",
    "# with open('./wordrank_data/pk_content_hashtag.pkl', 'wb') as f:\n",
    "#     pickle.dump(pk_content_hashtag, f)"
   ],
   "outputs": [
    {
     "output_type": "stream",
     "name": "stderr",
     "text": [
      "100%|██████████| 1779152/1779152 [02:22<00:00, 12485.17it/s]\n"
     ]
    }
   ],
   "metadata": {}
  },
  {
   "cell_type": "code",
   "execution_count": 2,
   "source": [
    "with open('./wordrank_data/pk_content_hashtag.pkl', 'rb') as f:\n",
    "    pk_content_hashtag = pickle.load(f)"
   ],
   "outputs": [],
   "metadata": {}
  },
  {
   "cell_type": "code",
   "execution_count": 7,
   "source": [
    "print(len(list(pk_content_hashtag.keys())))\n",
    "list(pk_content_hashtag.keys())[-10:]"
   ],
   "outputs": [
    {
     "output_type": "stream",
     "name": "stdout",
     "text": [
      "1740902\n"
     ]
    },
    {
     "output_type": "execute_result",
     "data": {
      "text/plain": [
       "[2606672384618638559,\n",
       " 2606672207325641885,\n",
       " 2606671680513173050,\n",
       " 2606671565346021925,\n",
       " 2606670987882625740,\n",
       " 2606670880164388488,\n",
       " 2606670493309475518,\n",
       " 2606670028378223158,\n",
       " 2606668507709181424,\n",
       " 2606667995203811908]"
      ]
     },
     "metadata": {},
     "execution_count": 7
    }
   ],
   "metadata": {}
  },
  {
   "cell_type": "code",
   "execution_count": 8,
   "source": [
    "pk_content_hashtag[2606668507709181424]"
   ],
   "outputs": [
    {
     "output_type": "execute_result",
     "data": {
      "text/plain": [
       "{'hashtag': '',\n",
       " 'content': '사진너무잘찍어 딘땨',\n",
       " 'pk': 2606668507709181424,\n",
       " 'location_pk': 773850536122935,\n",
       " 'join': '사진너무잘찍어 딘땨'}"
      ]
     },
     "metadata": {},
     "execution_count": 8
    }
   ],
   "metadata": {}
  },
  {
   "cell_type": "code",
   "execution_count": 9,
   "source": [
    "## {'location_pk': texts}\n",
    "loc_pk_texts = defaultdict(list)\n",
    "for pk, dic in pk_content_hashtag.items():\n",
    "    loc_pk_texts[dic['location_pk']].append(dic['join'])"
   ],
   "outputs": [],
   "metadata": {}
  },
  {
   "cell_type": "code",
   "execution_count": 10,
   "source": [
    "from krwordrank.word import KRWordRank\n",
    "\n",
    "location_keywords = defaultdict(list)\n",
    "for location_pk, texts in tqdm(loc_pk_texts.items()):\n",
    "    if len(texts) > 20:\n",
    "        wordrank_extractor = KRWordRank(\n",
    "            min_count = 10,\n",
    "            max_length = 10,\n",
    "            verbose=False\n",
    "        )\n",
    "\n",
    "        beta = 0.85\n",
    "        max_iter = 10\n",
    "\n",
    "        try:\n",
    "            keywords, rank, graph = wordrank_extractor.extract(texts, beta, max_iter)\n",
    "            sorted_keywords = sorted(keywords.items(), key=lambda x:x[1], reverse=True)\n",
    "            location_keywords[location_pk] = sorted_keywords\n",
    "        except:\n",
    "            pass\n",
    "    else:\n",
    "        pass\n",
    "\n",
    "len(location_keywords.keys())"
   ],
   "outputs": [
    {
     "output_type": "stream",
     "name": "stderr",
     "text": [
      "  0%|          | 0/70543 [00:00<?, ?it/s]"
     ]
    }
   ],
   "metadata": {}
  },
  {
   "cell_type": "code",
   "execution_count": 15,
   "source": [
    "query = f\"select pk, name, raw from scrapping.scrapping.instagram_location;\"\n",
    "loc_infos = get_select(query)"
   ],
   "outputs": [],
   "metadata": {}
  },
  {
   "cell_type": "code",
   "execution_count": 16,
   "source": [
    "loc_infos_dic = defaultdict(dict)\n",
    "for (pk, name, raw, ) in loc_infos:\n",
    "    loc_infos_dic[pk]['name'] = name\n",
    "    loc_infos_dic[pk]['raw'] = raw"
   ],
   "outputs": [],
   "metadata": {}
  },
  {
   "cell_type": "code",
   "execution_count": 21,
   "source": [
    "l, n, r, k = [],[],[],[]\n",
    "for loc_pk, keywords in location_keywords.items():\n",
    "    l.append(loc_pk)\n",
    "    n.append(loc_infos_dic[loc_pk]['name'])\n",
    "    r.append(loc_infos_dic[loc_pk]['raw'])\n",
    "    k.append(keywords)\n",
    "print(len(l), len(n), len(r), len(k))"
   ],
   "outputs": [
    {
     "output_type": "stream",
     "name": "stdout",
     "text": [
      "4188 4188 4188 4188\n"
     ]
    }
   ],
   "metadata": {}
  },
  {
   "cell_type": "code",
   "execution_count": 22,
   "source": [
    "df_loc_keywords = pd.DataFrame({'location_pk': l, 'name': n, 'keywords_score': k, 'raw': r})\n",
    "df_loc_keywords.to_csv('./wordrank_data/df_loc_keywords_20_mincnt10.csv', encoding='utf-8', index=False)\n",
    "df_loc_keywords"
   ],
   "outputs": [
    {
     "output_type": "execute_result",
     "data": {
      "text/plain": [
       "          location_pk              name  \\\n",
       "0     221484355286107     Jeonju, Korea   \n",
       "1           245713997            Jeonju   \n",
       "2     345849689434417             베르자르당   \n",
       "3           242947360            전주한옥마을   \n",
       "4     110836031109980              카페루츠   \n",
       "...               ...               ...   \n",
       "4183  372402660182337               여느꽃   \n",
       "4184  295195034600610            선우메이크업   \n",
       "4185  106787627705108         바른치킨전주혁신점   \n",
       "4186  183992339157180             클래시에스   \n",
       "4187  789203771285688  전주,완주 클로엔성형외과 본점   \n",
       "\n",
       "                                         keywords_score  \\\n",
       "0     [(전주, 10970.07289114403), (일상, 997.04900113188...   \n",
       "1     [(전주, 46336.424911983595), (일상, 4768.285453512...   \n",
       "2     [(전주, 62.4733045248046), (순창, 49.4889714878311...   \n",
       "3     [(전주, 4508.08688526555), (여행, 803.755099390192...   \n",
       "4     [(오늘도, 17.96774090256985), (전주, 12.68119581235...   \n",
       "...                                                 ...   \n",
       "4183  [(전주여느꽃플라워스튜디오, 23.665361996900394), (여느꽃, 9.9...   \n",
       "4184  [(전주, 102.97322807384937), (선우, 45.66366673357...   \n",
       "4185  [(전주, 22.19829571590334), (국내산, 18.83295803086...   \n",
       "4186  [(전주혁신도시, 21.969388171957554), (되었어요, 9.643384...   \n",
       "4187  [(전주, 120.30181268575069), (상담, 103.1135704371...   \n",
       "\n",
       "                                                    raw  \n",
       "0     {'pk': 221484355286107, 'lat': 35.823659221906...  \n",
       "1     {'pk': 245713997, 'lat': 35.8219, 'lng': 127.1...  \n",
       "2     {'pk': 345849689434417, 'lat': 35.362007, 'lng...  \n",
       "3     {'pk': 242947360, 'lat': 37.5287516782, 'lng':...  \n",
       "4     {'pk': 110836031109980, 'lat': 35.821234091394...  \n",
       "...                                                 ...  \n",
       "4183  {'pk': 372402660182337, 'lat': 7.7063182184948...  \n",
       "4184  {'pk': 295195034600610, 'lat': 35.837501525879...  \n",
       "4185  {'pk': 106787627705108, 'lat': 35.825550387163...  \n",
       "4186  {'pk': 183992339157180, 'lat': 35.83851825264,...  \n",
       "4187  {'pk': 789203771285688, 'lat': 35.83854134, 'l...  \n",
       "\n",
       "[4188 rows x 4 columns]"
      ],
      "text/html": [
       "<div>\n",
       "<style scoped>\n",
       "    .dataframe tbody tr th:only-of-type {\n",
       "        vertical-align: middle;\n",
       "    }\n",
       "\n",
       "    .dataframe tbody tr th {\n",
       "        vertical-align: top;\n",
       "    }\n",
       "\n",
       "    .dataframe thead th {\n",
       "        text-align: right;\n",
       "    }\n",
       "</style>\n",
       "<table border=\"1\" class=\"dataframe\">\n",
       "  <thead>\n",
       "    <tr style=\"text-align: right;\">\n",
       "      <th></th>\n",
       "      <th>location_pk</th>\n",
       "      <th>name</th>\n",
       "      <th>keywords_score</th>\n",
       "      <th>raw</th>\n",
       "    </tr>\n",
       "  </thead>\n",
       "  <tbody>\n",
       "    <tr>\n",
       "      <th>0</th>\n",
       "      <td>221484355286107</td>\n",
       "      <td>Jeonju, Korea</td>\n",
       "      <td>[(전주, 10970.07289114403), (일상, 997.04900113188...</td>\n",
       "      <td>{'pk': 221484355286107, 'lat': 35.823659221906...</td>\n",
       "    </tr>\n",
       "    <tr>\n",
       "      <th>1</th>\n",
       "      <td>245713997</td>\n",
       "      <td>Jeonju</td>\n",
       "      <td>[(전주, 46336.424911983595), (일상, 4768.285453512...</td>\n",
       "      <td>{'pk': 245713997, 'lat': 35.8219, 'lng': 127.1...</td>\n",
       "    </tr>\n",
       "    <tr>\n",
       "      <th>2</th>\n",
       "      <td>345849689434417</td>\n",
       "      <td>베르자르당</td>\n",
       "      <td>[(전주, 62.4733045248046), (순창, 49.4889714878311...</td>\n",
       "      <td>{'pk': 345849689434417, 'lat': 35.362007, 'lng...</td>\n",
       "    </tr>\n",
       "    <tr>\n",
       "      <th>3</th>\n",
       "      <td>242947360</td>\n",
       "      <td>전주한옥마을</td>\n",
       "      <td>[(전주, 4508.08688526555), (여행, 803.755099390192...</td>\n",
       "      <td>{'pk': 242947360, 'lat': 37.5287516782, 'lng':...</td>\n",
       "    </tr>\n",
       "    <tr>\n",
       "      <th>4</th>\n",
       "      <td>110836031109980</td>\n",
       "      <td>카페루츠</td>\n",
       "      <td>[(오늘도, 17.96774090256985), (전주, 12.68119581235...</td>\n",
       "      <td>{'pk': 110836031109980, 'lat': 35.821234091394...</td>\n",
       "    </tr>\n",
       "    <tr>\n",
       "      <th>...</th>\n",
       "      <td>...</td>\n",
       "      <td>...</td>\n",
       "      <td>...</td>\n",
       "      <td>...</td>\n",
       "    </tr>\n",
       "    <tr>\n",
       "      <th>4183</th>\n",
       "      <td>372402660182337</td>\n",
       "      <td>여느꽃</td>\n",
       "      <td>[(전주여느꽃플라워스튜디오, 23.665361996900394), (여느꽃, 9.9...</td>\n",
       "      <td>{'pk': 372402660182337, 'lat': 7.7063182184948...</td>\n",
       "    </tr>\n",
       "    <tr>\n",
       "      <th>4184</th>\n",
       "      <td>295195034600610</td>\n",
       "      <td>선우메이크업</td>\n",
       "      <td>[(전주, 102.97322807384937), (선우, 45.66366673357...</td>\n",
       "      <td>{'pk': 295195034600610, 'lat': 35.837501525879...</td>\n",
       "    </tr>\n",
       "    <tr>\n",
       "      <th>4185</th>\n",
       "      <td>106787627705108</td>\n",
       "      <td>바른치킨전주혁신점</td>\n",
       "      <td>[(전주, 22.19829571590334), (국내산, 18.83295803086...</td>\n",
       "      <td>{'pk': 106787627705108, 'lat': 35.825550387163...</td>\n",
       "    </tr>\n",
       "    <tr>\n",
       "      <th>4186</th>\n",
       "      <td>183992339157180</td>\n",
       "      <td>클래시에스</td>\n",
       "      <td>[(전주혁신도시, 21.969388171957554), (되었어요, 9.643384...</td>\n",
       "      <td>{'pk': 183992339157180, 'lat': 35.83851825264,...</td>\n",
       "    </tr>\n",
       "    <tr>\n",
       "      <th>4187</th>\n",
       "      <td>789203771285688</td>\n",
       "      <td>전주,완주 클로엔성형외과 본점</td>\n",
       "      <td>[(전주, 120.30181268575069), (상담, 103.1135704371...</td>\n",
       "      <td>{'pk': 789203771285688, 'lat': 35.83854134, 'l...</td>\n",
       "    </tr>\n",
       "  </tbody>\n",
       "</table>\n",
       "<p>4188 rows × 4 columns</p>\n",
       "</div>"
      ]
     },
     "metadata": {},
     "execution_count": 22
    }
   ],
   "metadata": {}
  }
 ],
 "metadata": {
  "interpreter": {
   "hash": "8c300b68f87a0b34854b9c17a7a0f528a75fc09066f8445722564eb05533ed98"
  },
  "kernelspec": {
   "name": "python3",
   "display_name": "Python 3.8.8 64-bit ('py3env': conda)"
  },
  "language_info": {
   "codemirror_mode": {
    "name": "ipython",
    "version": 3
   },
   "file_extension": ".py",
   "mimetype": "text/x-python",
   "name": "python",
   "nbconvert_exporter": "python",
   "pygments_lexer": "ipython3",
   "version": "3.8.8"
  },
  "orig_nbformat": 4
 },
 "nbformat": 4,
 "nbformat_minor": 2
}