{
 "cells": [
  {
   "cell_type": "code",
   "execution_count": 2,
   "source": [
    "from dbConn.postgresConn import get_select\n",
    "\n",
    "query = f\"\"\"select name, naver_name from scrapping.scrapping.instagram_location where naver_pk is not null and is_naver_pk_updated != false\"\"\"\n",
    "results = get_select(query)"
   ],
   "outputs": [],
   "metadata": {}
  },
  {
   "cell_type": "code",
   "execution_count": 3,
   "source": [
    "from collections import defaultdict\n",
    "\n",
    "case1 = defaultdict(list)\n",
    "case2 = defaultdict(list)\n",
    "case3 = defaultdict(list)\n",
    "for (name, naver_name, ) in results:\n",
    "    if name in naver_name or naver_name in name:\n",
    "        case1['name'].append(naver_name)\n",
    "        case1['naver_name'].append(naver_name)\n",
    "    elif naver_name == 'invalid':\n",
    "        case2['name'].append(name)\n",
    "    else:\n",
    "        case3['name'].append(name)"
   ],
   "outputs": [],
   "metadata": {}
  },
  {
   "cell_type": "code",
   "execution_count": 4,
   "source": [
    "print(len(case1['name']))\n",
    "print(len(case2['name']))\n",
    "print(len(case3['name']))\n"
   ],
   "outputs": [
    {
     "output_type": "stream",
     "name": "stdout",
     "text": [
      "2151\n",
      "938\n",
      "1456\n"
     ]
    }
   ],
   "metadata": {}
  }
 ],
 "metadata": {
  "orig_nbformat": 4,
  "language_info": {
   "name": "python",
   "version": "3.8.8",
   "mimetype": "text/x-python",
   "codemirror_mode": {
    "name": "ipython",
    "version": 3
   },
   "pygments_lexer": "ipython3",
   "nbconvert_exporter": "python",
   "file_extension": ".py"
  },
  "kernelspec": {
   "name": "python3",
   "display_name": "Python 3.8.8 64-bit ('py3env': conda)"
  },
  "interpreter": {
   "hash": "8c300b68f87a0b34854b9c17a7a0f528a75fc09066f8445722564eb05533ed98"
  }
 },
 "nbformat": 4,
 "nbformat_minor": 2
}