{
 "cells": [
  {
   "cell_type": "code",
   "execution_count": 3,
   "source": [
    "import time\n",
    "import json\n",
    "import requests\n",
    "from collections import defaultdict\n",
    "import pandas as pd\n",
    "from dbConn.get_query import get_select, get_insert"
   ],
   "outputs": [],
   "metadata": {}
  },
  {
   "cell_type": "code",
   "execution_count": 2,
   "source": [
    "query = 'select pk, latlng from scrapping.scrapping.instagram_location;'\n",
    "locs = get_select(query)"
   ],
   "outputs": [],
   "metadata": {}
  },
  {
   "cell_type": "code",
   "execution_count": 3,
   "source": [
    "len(locs)"
   ],
   "outputs": [
    {
     "output_type": "execute_result",
     "data": {
      "text/plain": [
       "74864"
      ]
     },
     "metadata": {},
     "execution_count": 3
    }
   ],
   "metadata": {}
  },
  {
   "cell_type": "code",
   "execution_count": 5,
   "source": [
    "url = \"https://dapi.kakao.com/v2/local/geo/coord2regioncode.json?x=129.12763322949&y=35.172803805612\"\n",
    "headers = {\"Authorization\": \"KakaoAK 35411bfa614a5dd447f4c6b3a3b95559\"}\n",
    "api_test = requests.get(url, headers=headers)\n",
    "url_text = json.loads(api_test.text)\n",
    "url_text"
   ],
   "outputs": [
    {
     "output_type": "execute_result",
     "data": {
      "text/plain": [
       "{'meta': {'total_count': 2},\n",
       " 'documents': [{'region_type': 'B',\n",
       "   'code': '2635010500',\n",
       "   'address_name': '부산광역시 해운대구 우동',\n",
       "   'region_1depth_name': '부산광역시',\n",
       "   'region_2depth_name': '해운대구',\n",
       "   'region_3depth_name': '우동',\n",
       "   'region_4depth_name': '',\n",
       "   'x': 129.14378876810525,\n",
       "   'y': 35.172340282874565},\n",
       "  {'region_type': 'H',\n",
       "   'code': '2635052000',\n",
       "   'address_name': '부산광역시 해운대구 우2동',\n",
       "   'region_1depth_name': '부산광역시',\n",
       "   'region_2depth_name': '해운대구',\n",
       "   'region_3depth_name': '우2동',\n",
       "   'region_4depth_name': '',\n",
       "   'x': 129.13999879270276,\n",
       "   'y': 35.17127909456614}]}"
      ]
     },
     "metadata": {},
     "execution_count": 5
    }
   ],
   "metadata": {}
  },
  {
   "cell_type": "code",
   "execution_count": 6,
   "source": [
    "headers = {\"Authorization\": \"KakaoAK 35411bfa614a5dd447f4c6b3a3b95559\"}\n",
    "api_url = \"https://dapi.kakao.com/v2/local/geo/coord2regioncode.json?\"\n",
    "latlng_address = defaultdict(list)\n",
    "\n",
    "for (pk, latlng,) in locs:\n",
    "    if latlng:\n",
    "        y, x = eval(latlng)\n",
    "        url = api_url + f'x={x}&y={y}'\n",
    "        try:\n",
    "            api = requests.get(url, headers=headers)\n",
    "        except:\n",
    "            print(pk)\n",
    "            break\n",
    "        api_text = json.loads(api.text)\n",
    "\n",
    "        if 'documents' in api_text.keys():\n",
    "            result = api_text['documents'][1]\n",
    "            latlng_address[pk] = result['address_name']"
   ],
   "outputs": [],
   "metadata": {}
  },
  {
   "cell_type": "code",
   "execution_count": 10,
   "source": [
    "import pickle\n",
    "\n",
    "with open('./latlng_address.json', 'wb') as f:\n",
    "    pickle.dump(latlng_address, f)"
   ],
   "outputs": [],
   "metadata": {}
  },
  {
   "cell_type": "code",
   "execution_count": 7,
   "source": [
    "with open('./latlng_addres.pkl', 'rb') as f:\n",
    "    latlng_address = pickle.load(f)\n",
    "len(latlng_address)"
   ],
   "outputs": [
    {
     "output_type": "execute_result",
     "data": {
      "text/plain": [
       "66590"
      ]
     },
     "metadata": {},
     "execution_count": 7
    }
   ],
   "metadata": {}
  },
  {
   "cell_type": "code",
   "execution_count": 4,
   "source": [
    "import pickle\n",
    "\n",
    "with open('./valid_location_pk2.json', 'rb') as f:\n",
    "    latlng_address2 = pickle.load(f)"
   ],
   "outputs": [],
   "metadata": {}
  },
  {
   "cell_type": "code",
   "execution_count": 8,
   "source": [
    "for pk, addr in latlng_address2.items():\n",
    "    latlng_address[pk] = addr\n",
    "len(latlng_address)"
   ],
   "outputs": [
    {
     "output_type": "execute_result",
     "data": {
      "text/plain": [
       "71623"
      ]
     },
     "metadata": {},
     "execution_count": 8
    }
   ],
   "metadata": {}
  },
  {
   "cell_type": "code",
   "execution_count": null,
   "source": [
    "for pk, addr in latlng_address.items():\n",
    "    query = f\"update scrapping.scrapping.instagram_location set address = '{addr}' where pk = {pk};\"\n",
    "    get_insert(query)"
   ],
   "outputs": [],
   "metadata": {}
  }
 ],
 "metadata": {
  "orig_nbformat": 4,
  "language_info": {
   "name": "python",
   "version": "3.8.8",
   "mimetype": "text/x-python",
   "codemirror_mode": {
    "name": "ipython",
    "version": 3
   },
   "pygments_lexer": "ipython3",
   "nbconvert_exporter": "python",
   "file_extension": ".py"
  },
  "kernelspec": {
   "name": "python3",
   "display_name": "Python 3.8.8 64-bit ('py3env': conda)"
  },
  "interpreter": {
   "hash": "8c300b68f87a0b34854b9c17a7a0f528a75fc09066f8445722564eb05533ed98"
  }
 },
 "nbformat": 4,
 "nbformat_minor": 2
}