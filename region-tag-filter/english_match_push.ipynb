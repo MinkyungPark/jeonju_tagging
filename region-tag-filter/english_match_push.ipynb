{
 "cells": [
  {
   "cell_type": "code",
   "execution_count": 1,
   "source": [
    "import pandas as pd\n",
    "\n",
    "df = pd.read_csv('./administrative_region_eng.csv')\n",
    "print(len(df))\n",
    "df.head()"
   ],
   "outputs": [
    {
     "output_type": "stream",
     "name": "stdout",
     "text": [
      "4473\n"
     ]
    },
    {
     "output_type": "execute_result",
     "data": {
      "text/plain": [
       "            origin                               translated\n",
       "0            서울특별시            Seoul Metropolitan Government\n",
       "1               서울                                    Seoul\n",
       "2              서울시                               Seoul City\n",
       "3        서울특별시 종로구                         Jongno-gu, Seoul\n",
       "4  서울특별시 종로구 청운효자동  Cheongwoon Hyoja-dong, Jongno-gu, Seoul"
      ],
      "text/html": [
       "<div>\n",
       "<style scoped>\n",
       "    .dataframe tbody tr th:only-of-type {\n",
       "        vertical-align: middle;\n",
       "    }\n",
       "\n",
       "    .dataframe tbody tr th {\n",
       "        vertical-align: top;\n",
       "    }\n",
       "\n",
       "    .dataframe thead th {\n",
       "        text-align: right;\n",
       "    }\n",
       "</style>\n",
       "<table border=\"1\" class=\"dataframe\">\n",
       "  <thead>\n",
       "    <tr style=\"text-align: right;\">\n",
       "      <th></th>\n",
       "      <th>origin</th>\n",
       "      <th>translated</th>\n",
       "    </tr>\n",
       "  </thead>\n",
       "  <tbody>\n",
       "    <tr>\n",
       "      <th>0</th>\n",
       "      <td>서울특별시</td>\n",
       "      <td>Seoul Metropolitan Government</td>\n",
       "    </tr>\n",
       "    <tr>\n",
       "      <th>1</th>\n",
       "      <td>서울</td>\n",
       "      <td>Seoul</td>\n",
       "    </tr>\n",
       "    <tr>\n",
       "      <th>2</th>\n",
       "      <td>서울시</td>\n",
       "      <td>Seoul City</td>\n",
       "    </tr>\n",
       "    <tr>\n",
       "      <th>3</th>\n",
       "      <td>서울특별시 종로구</td>\n",
       "      <td>Jongno-gu, Seoul</td>\n",
       "    </tr>\n",
       "    <tr>\n",
       "      <th>4</th>\n",
       "      <td>서울특별시 종로구 청운효자동</td>\n",
       "      <td>Cheongwoon Hyoja-dong, Jongno-gu, Seoul</td>\n",
       "    </tr>\n",
       "  </tbody>\n",
       "</table>\n",
       "</div>"
      ]
     },
     "metadata": {},
     "execution_count": 1
    }
   ],
   "metadata": {}
  },
  {
   "cell_type": "code",
   "execution_count": 2,
   "source": [
    "df.isna().sum()"
   ],
   "outputs": [
    {
     "output_type": "execute_result",
     "data": {
      "text/plain": [
       "origin        0\n",
       "translated    0\n",
       "dtype: int64"
      ]
     },
     "metadata": {},
     "execution_count": 2
    }
   ],
   "metadata": {}
  },
  {
   "cell_type": "code",
   "execution_count": 3,
   "source": [
    "from collections import defaultdict\n",
    "\n",
    "each_region_match = defaultdict(str)\n",
    "for origin, translated in df.values.tolist():\n",
    "    each_origin = origin.split()\n",
    "    each_translated = translated.split(', ')\n",
    "    each_translated.reverse()\n",
    "    for o, t in zip(each_origin, each_translated):\n",
    "        each_region_match[o] = t\n",
    "\n",
    "len(list(each_region_match.keys()))"
   ],
   "outputs": [
    {
     "output_type": "execute_result",
     "data": {
      "text/plain": [
       "3899"
      ]
     },
     "metadata": {},
     "execution_count": 3
    }
   ],
   "metadata": {}
  },
  {
   "cell_type": "code",
   "execution_count": 9,
   "source": [
    "print(each_region_match['광진구'])\n",
    "print(each_region_match['경기'])\n",
    "print(each_region_match['수송동']) # ????"
   ],
   "outputs": [
    {
     "output_type": "stream",
     "name": "stdout",
     "text": [
      "Gwangjin-gu\n",
      "Gyeonggi\n",
      "Transport-dong\n"
     ]
    }
   ],
   "metadata": {}
  },
  {
   "cell_type": "code",
   "execution_count": 36,
   "source": [
    "import re\n",
    "\n",
    "with open('./juso_eng_dobongcilorkr.txt', 'r') as f:\n",
    "    juso = f.read().splitlines()\n",
    "\n",
    "removeChar = ['(il)', '(i)', '(sam)', '(sa)', '(o)', '(yuk)', \\\n",
    "    '(chil)', '(pal)', '(gu)', '(sip)', '(sibil)', '(sibi)', '(sipsam)']\n",
    "for r in removeChar:\n",
    "    juso = [j.replace(r, '') for j in juso]\n",
    "juso = [j.replace(' - ', ' ') for j in juso]\n",
    "specialChar = '[<>()]'\n",
    "juso = [re.sub(specialChar, '', j) for j in juso]\n",
    "juso = [j.strip() for j in juso if j.strip()]"
   ],
   "outputs": [],
   "metadata": {}
  },
  {
   "cell_type": "code",
   "execution_count": 38,
   "source": [
    "juso[-20:-10]"
   ],
   "outputs": [
    {
     "output_type": "execute_result",
     "data": {
      "text/plain": [
       "['일도동 Ildo-dong',\n",
       " '해안동 Haean-dong',\n",
       " '화북1동 Hwabuk 1-dong',\n",
       " '화북2동 Hwabuk 2-dong',\n",
       " '화북동 Hwabuk-dong',\n",
       " '회천동 Hoecheon-dong',\n",
       " '남제주군 Namjeju-gun',\n",
       " '남원읍 Namwon-eup',\n",
       " '대정읍 Daejeong-eup',\n",
       " '성산읍 Seongsan-eup']"
      ]
     },
     "metadata": {},
     "execution_count": 38
    }
   ],
   "metadata": {}
  },
  {
   "cell_type": "code",
   "execution_count": 42,
   "source": [
    "print(len(list(each_region_match.keys())))\n",
    "for j in juso:\n",
    "    splited = j.split()\n",
    "    name, eng_name = splited[0], ' '.join(splited[1:])\n",
    "    each_region_match[name] = eng_name\n",
    "print(len(list(each_region_match.keys())))"
   ],
   "outputs": [
    {
     "output_type": "stream",
     "name": "stdout",
     "text": [
      "4182\n",
      "6233\n"
     ]
    }
   ],
   "metadata": {}
  },
  {
   "cell_type": "code",
   "execution_count": 43,
   "source": [
    "print(each_region_match['수송동'])"
   ],
   "outputs": [
    {
     "output_type": "stream",
     "name": "stdout",
     "text": [
      "Susong-dong\n"
     ]
    }
   ],
   "metadata": {}
  },
  {
   "cell_type": "code",
   "execution_count": 45,
   "source": [
    "import pickle\n",
    "\n",
    "with open('./total_region.pickle', 'rb') as f:\n",
    "    total_region = pickle.load(f)\n",
    "len(total_region)"
   ],
   "outputs": [
    {
     "output_type": "execute_result",
     "data": {
      "text/plain": [
       "44759"
      ]
     },
     "metadata": {},
     "execution_count": 45
    }
   ],
   "metadata": {}
  },
  {
   "cell_type": "code",
   "execution_count": 2,
   "source": [
    "# Mongo Setting\n",
    "from dbConn.mongoConn import config\n",
    "\n",
    "collection = config(db_name=\"location_match_db\", collection_name=\"region_name_kor_en\")"
   ],
   "outputs": [],
   "metadata": {}
  },
  {
   "cell_type": "code",
   "execution_count": 9,
   "source": [
    "all_data = collection.find()"
   ],
   "outputs": [],
   "metadata": {}
  },
  {
   "cell_type": "code",
   "execution_count": 12,
   "source": [
    "for i, data in enumerate(all_data):\n",
    "    lower_name = data['eng_name'].lower()\n",
    "    collection.update({\"eng_name\": data['eng_name']}, {\"$set\": {\"eng_name_lower\": lower_name}})"
   ],
   "outputs": [
    {
     "output_type": "stream",
     "name": "stderr",
     "text": [
      "<ipython-input-12-ba138ba9c3f4>:3: DeprecationWarning: update is deprecated. Use replace_one, update_one or update_many instead.\n",
      "  collection.update({\"eng_name\": data['eng_name']}, {\"$set\": {\"eng_name_lower\": lower_name}})\n"
     ]
    }
   ],
   "metadata": {}
  },
  {
   "cell_type": "code",
   "execution_count": 13,
   "source": [
    "collection.find_one({'eng_name_lower': 'seoul'})"
   ],
   "outputs": [
    {
     "output_type": "execute_result",
     "data": {
      "text/plain": [
       "{'_id': ObjectId('611dd94a13351183ec3aea10'),\n",
       " 'kor_name': '서울특별시',\n",
       " 'eng_name': 'Seoul',\n",
       " 'eng_name_lower': 'seoul'}"
      ]
     },
     "metadata": {},
     "execution_count": 13
    }
   ],
   "metadata": {}
  }
 ],
 "metadata": {
  "orig_nbformat": 4,
  "language_info": {
   "name": "python",
   "version": "3.8.8",
   "mimetype": "text/x-python",
   "codemirror_mode": {
    "name": "ipython",
    "version": 3
   },
   "pygments_lexer": "ipython3",
   "nbconvert_exporter": "python",
   "file_extension": ".py"
  },
  "kernelspec": {
   "name": "python3",
   "display_name": "Python 3.8.8 64-bit ('py3env': conda)"
  },
  "interpreter": {
   "hash": "8c300b68f87a0b34854b9c17a7a0f528a75fc09066f8445722564eb05533ed98"
  }
 },
 "nbformat": 4,
 "nbformat_minor": 2
}