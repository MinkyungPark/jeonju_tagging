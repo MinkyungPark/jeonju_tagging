{
 "cells": [
  {
   "cell_type": "code",
   "execution_count": 1,
   "source": [
    "import pickle\n",
    "\n",
    "with open('./split_region.pickle', 'rb') as f:\n",
    "    split_region = pickle.load(f)"
   ],
   "outputs": [],
   "metadata": {}
  },
  {
   "cell_type": "code",
   "execution_count": 3,
   "source": [
    "len(split_region)"
   ],
   "outputs": [
    {
     "output_type": "execute_result",
     "data": {
      "text/plain": [
       "3962"
      ]
     },
     "metadata": {},
     "execution_count": 3
    }
   ],
   "metadata": {}
  },
  {
   "cell_type": "code",
   "execution_count": 12,
   "source": [
    "split_one = ' '.join(split_region[:100])"
   ],
   "outputs": [],
   "metadata": {}
  },
  {
   "cell_type": "code",
   "execution_count": 13,
   "source": [
    "len(split_one)"
   ],
   "outputs": [
    {
     "output_type": "execute_result",
     "data": {
      "text/plain": [
       "435"
      ]
     },
     "metadata": {},
     "execution_count": 13
    }
   ],
   "metadata": {}
  },
  {
   "cell_type": "code",
   "execution_count": 17,
   "source": [
    "total_trans_data = []"
   ],
   "outputs": [],
   "metadata": {}
  },
  {
   "cell_type": "code",
   "execution_count": 14,
   "source": [
    "import requests\n",
    "\n",
    "def get_translate(text):\n",
    "    client_id = \"knPu8HNx7HSAjXMHLxxZ\"\n",
    "    client_secret = \"TVUeyOwmmu\"\n",
    "\n",
    "    data = {'text' : text,\n",
    "            'source' : 'ko',\n",
    "            'target': 'en'}\n",
    "\n",
    "    url = \"https://openapi.naver.com/v1/papago/n2mt\"\n",
    "\n",
    "    header = {\"X-Naver-Client-Id\":client_id,\n",
    "              \"X-Naver-Client-Secret\":client_secret}\n",
    "\n",
    "    response = requests.post(url, headers=header, data=data)\n",
    "    rescode = response.status_code\n",
    "\n",
    "    if(rescode==200):\n",
    "        send_data = response.json()\n",
    "        trans_data = (send_data['message']['result']['translatedText'])\n",
    "        return trans_data\n",
    "    else:\n",
    "        print(\"Error Code:\" , rescode)"
   ],
   "outputs": [],
   "metadata": {}
  },
  {
   "cell_type": "code",
   "execution_count": 15,
   "source": [
    "trans_data = get_translate(split_one)\n",
    "\n",
    "for i in range(100, len(split_one), 100):\n",
    "    split_one = ' '.join(split_region[:i])\n",
    "    "
   ],
   "outputs": [],
   "metadata": {}
  },
  {
   "cell_type": "code",
   "execution_count": 18,
   "source": [
    "total_trans_data = []"
   ],
   "outputs": [],
   "metadata": {}
  }
 ],
 "metadata": {
  "orig_nbformat": 4,
  "language_info": {
   "name": "python",
   "version": "3.8.8",
   "mimetype": "text/x-python",
   "codemirror_mode": {
    "name": "ipython",
    "version": 3
   },
   "pygments_lexer": "ipython3",
   "nbconvert_exporter": "python",
   "file_extension": ".py"
  },
  "kernelspec": {
   "name": "python3",
   "display_name": "Python 3.8.8 64-bit ('py3env': conda)"
  },
  "interpreter": {
   "hash": "8c300b68f87a0b34854b9c17a7a0f528a75fc09066f8445722564eb05533ed98"
  }
 },
 "nbformat": 4,
 "nbformat_minor": 2
}