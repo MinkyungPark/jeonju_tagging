{
 "cells": [
  {
   "cell_type": "code",
   "execution_count": 1,
   "source": [
    "import pickle\n",
    "\n",
    "with open('./split_region.pickle', 'rb') as f:\n",
    "    split_region = pickle.load(f)"
   ],
   "outputs": [],
   "metadata": {}
  },
  {
   "cell_type": "code",
   "execution_count": 2,
   "source": [
    "len(split_region)"
   ],
   "outputs": [
    {
     "output_type": "execute_result",
     "data": {
      "text/plain": [
       "3962"
      ]
     },
     "metadata": {},
     "execution_count": 2
    }
   ],
   "metadata": {}
  },
  {
   "cell_type": "code",
   "execution_count": 3,
   "source": [
    "region_eng = []"
   ],
   "outputs": [],
   "metadata": {}
  },
  {
   "cell_type": "code",
   "execution_count": 6,
   "source": [
    "import time\n",
    "import random\n",
    "from collections import defaultdict\n",
    "from googletrans import Translator\n",
    "\n",
    "translator = Translator()\n",
    "\n",
    "for i in range(100, 200, 100): # len(split_region)\n",
    "    joined = ', '.join(split_region[100-i:i])\n",
    "    trans = translator.translate(joined, src='ko', dest='en')\n",
    "    time.sleep(random.uniform(1, 3))\n",
    "    region_eng.append(trans.text)\n"
   ],
   "outputs": [],
   "metadata": {}
  },
  {
   "cell_type": "code",
   "execution_count": 7,
   "source": [
    "region_eng[-1]"
   ],
   "outputs": [
    {
     "output_type": "execute_result",
     "data": {
      "text/plain": [
       "'2-dong, high-foil, concert, goublet, 4-dong, search-dong, ugly, nanhma, deeok-dong, nama-dong, Chungbuk, My written, Lord, Shenzhen, Sinseong, Hongjei 2, Won Dae-dong, My Dynasty, Hyunnam-myeon, Bumor 3, , Songdo-dong, the same surface, the same surface, the two-dong, Jongno 4-dong, Julwon 3-dong, Cheongna first, the first man, Jura-dong, Wangpi-dong, , Sanggang-dong, Galsan 2-dong, Bulgok 1, Jongno 5-dong, Park Hyeong-dong, Gongchok-dong, Baekgu, Seok-myeon, Yongdam, Hongcheon, Samil-dong, , Baeksan-myeon, Masan Member, Shinbong-dong, Mansong 3-dong, Cheongsong-dong, Gongcheon-myeon, Hyun-myeon, Jungmong-eup, Ulsan City, Naun-myeon, Chilgok-myeon, Yeongdo-gu, Kumho 1-dong,'"
      ]
     },
     "metadata": {},
     "execution_count": 7
    }
   ],
   "metadata": {}
  },
  {
   "cell_type": "code",
   "execution_count": 19,
   "source": [
    "with open('./split_region_eng.pickle', 'wb') as f:\n",
    "    pickle.dump(region_eng, f)"
   ],
   "outputs": [],
   "metadata": {}
  },
  {
   "cell_type": "code",
   "execution_count": 23,
   "source": [
    "with open('./total_region.pickle', 'rb') as f:\n",
    "    total_region = pickle.load(f)"
   ],
   "outputs": [],
   "metadata": {}
  },
  {
   "cell_type": "code",
   "execution_count": 28,
   "source": [
    "split_region[0]"
   ],
   "outputs": [
    {
     "output_type": "execute_result",
     "data": {
      "text/plain": [
       "'길음제2동'"
      ]
     },
     "metadata": {},
     "execution_count": 28
    }
   ],
   "metadata": {}
  },
  {
   "cell_type": "code",
   "execution_count": 29,
   "source": [
    "total_region_matched = defaultdict(str)\n",
    "for region_name in total_region:\n",
    "    matched = ' '\n",
    "    for each_name in region_name.split():\n",
    "        matched += region_eng[each_name] + ' '\n",
    "    matched = matched.strip()\n",
    "    total_region_matched[region_name] = matched\n",
    "\n",
    "with open('./total_region_matched', 'wb') as f:\n",
    "    pickle.dump(total_region_matched, f)\n",
    "len(total_region_matched)"
   ],
   "outputs": [
    {
     "output_type": "execute_result",
     "data": {
      "text/plain": [
       "44759"
      ]
     },
     "metadata": {},
     "execution_count": 29
    }
   ],
   "metadata": {}
  },
  {
   "cell_type": "code",
   "execution_count": 35,
   "source": [
    "total_region_matched['부산시']"
   ],
   "outputs": [
    {
     "output_type": "execute_result",
     "data": {
      "text/plain": [
       "'Busan City'"
      ]
     },
     "metadata": {},
     "execution_count": 35
    }
   ],
   "metadata": {}
  },
  {
   "cell_type": "code",
   "execution_count": null,
   "source": [
    "# db 확인\n",
    "# 아닌거 체크"
   ],
   "outputs": [],
   "metadata": {}
  }
 ],
 "metadata": {
  "orig_nbformat": 4,
  "language_info": {
   "name": "python",
   "version": "3.8.8",
   "mimetype": "text/x-python",
   "codemirror_mode": {
    "name": "ipython",
    "version": 3
   },
   "pygments_lexer": "ipython3",
   "nbconvert_exporter": "python",
   "file_extension": ".py"
  },
  "kernelspec": {
   "name": "python3",
   "display_name": "Python 3.8.8 64-bit ('py3env': conda)"
  },
  "interpreter": {
   "hash": "8c300b68f87a0b34854b9c17a7a0f528a75fc09066f8445722564eb05533ed98"
  }
 },
 "nbformat": 4,
 "nbformat_minor": 2
}