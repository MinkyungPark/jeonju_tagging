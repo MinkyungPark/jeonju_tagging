{
 "cells": [
  {
   "cell_type": "code",
   "execution_count": 1,
   "source": [
    "import pandas as pd\n",
    "import numpy as np\n",
    "\n",
    "df = pd.read_csv('./address.csv')\n",
    "df = df.replace(np.nan, '0')\n",
    "df.head()"
   ],
   "outputs": [
    {
     "output_type": "execute_result",
     "data": {
      "text/plain": [
       "      total_region city1         city2 country village\n",
       "0            서울특별시     0  서울 서울시 서울특별시       0       0\n",
       "1               서울     0  서울 서울시 서울특별시       0       0\n",
       "2              서울시     0  서울 서울시 서울특별시       0       0\n",
       "3        서울특별시 종로구     0  서울 서울시 서울특별시     종로구       0\n",
       "4  서울특별시 종로구 청운효자동     0  서울 서울시 서울특별시     종로구   청운효자동"
      ],
      "text/html": [
       "<div>\n",
       "<style scoped>\n",
       "    .dataframe tbody tr th:only-of-type {\n",
       "        vertical-align: middle;\n",
       "    }\n",
       "\n",
       "    .dataframe tbody tr th {\n",
       "        vertical-align: top;\n",
       "    }\n",
       "\n",
       "    .dataframe thead th {\n",
       "        text-align: right;\n",
       "    }\n",
       "</style>\n",
       "<table border=\"1\" class=\"dataframe\">\n",
       "  <thead>\n",
       "    <tr style=\"text-align: right;\">\n",
       "      <th></th>\n",
       "      <th>total_region</th>\n",
       "      <th>city1</th>\n",
       "      <th>city2</th>\n",
       "      <th>country</th>\n",
       "      <th>village</th>\n",
       "    </tr>\n",
       "  </thead>\n",
       "  <tbody>\n",
       "    <tr>\n",
       "      <th>0</th>\n",
       "      <td>서울특별시</td>\n",
       "      <td>0</td>\n",
       "      <td>서울 서울시 서울특별시</td>\n",
       "      <td>0</td>\n",
       "      <td>0</td>\n",
       "    </tr>\n",
       "    <tr>\n",
       "      <th>1</th>\n",
       "      <td>서울</td>\n",
       "      <td>0</td>\n",
       "      <td>서울 서울시 서울특별시</td>\n",
       "      <td>0</td>\n",
       "      <td>0</td>\n",
       "    </tr>\n",
       "    <tr>\n",
       "      <th>2</th>\n",
       "      <td>서울시</td>\n",
       "      <td>0</td>\n",
       "      <td>서울 서울시 서울특별시</td>\n",
       "      <td>0</td>\n",
       "      <td>0</td>\n",
       "    </tr>\n",
       "    <tr>\n",
       "      <th>3</th>\n",
       "      <td>서울특별시 종로구</td>\n",
       "      <td>0</td>\n",
       "      <td>서울 서울시 서울특별시</td>\n",
       "      <td>종로구</td>\n",
       "      <td>0</td>\n",
       "    </tr>\n",
       "    <tr>\n",
       "      <th>4</th>\n",
       "      <td>서울특별시 종로구 청운효자동</td>\n",
       "      <td>0</td>\n",
       "      <td>서울 서울시 서울특별시</td>\n",
       "      <td>종로구</td>\n",
       "      <td>청운효자동</td>\n",
       "    </tr>\n",
       "  </tbody>\n",
       "</table>\n",
       "</div>"
      ]
     },
     "metadata": {},
     "execution_count": 1
    }
   ],
   "metadata": {}
  },
  {
   "cell_type": "code",
   "execution_count": 2,
   "source": [
    "cols = df.columns\n",
    "cols"
   ],
   "outputs": [
    {
     "output_type": "execute_result",
     "data": {
      "text/plain": [
       "Index(['total_region', 'city1', 'city2', 'country', 'village'], dtype='object')"
      ]
     },
     "metadata": {},
     "execution_count": 2
    }
   ],
   "metadata": {}
  },
  {
   "cell_type": "code",
   "execution_count": 21,
   "source": [
    "from collections import defaultdict\n",
    "\n",
    "region_permutation = defaultdict(list)\n",
    "for _, city1, city2, country, village in df.values.tolist():\n",
    "    if city1 != '0':\n",
    "        alias_name = city1.split()\n",
    "        if len(alias_name) > 1:\n",
    "            for name in alias_name:\n",
    "                for c2 in city2.split():\n",
    "                    region_permutation[name].append(c2)\n",
    "                    for coun in country.split():\n",
    "                        region_permutation[name].append(c2 + ' ' + coun)\n",
    "                        region_permutation[name].append(c2 + ' ' + coun + ' ' + village)\n",
    "                        region_permutation[name].append(coun)\n",
    "                        region_permutation[name].append(coun + ' ' + village)\n",
    "                    region_permutation[name].append(c2 + ' ' + village)\n",
    "                region_permutation[name].append(village)\n",
    "        else:\n",
    "            for c2 in city2.split():\n",
    "                region_permutation[city1].append(c2)\n",
    "                for coun in country.split():\n",
    "                    region_permutation[city1].append(c2 + ' ' + coun)\n",
    "                    region_permutation[city1].append(c2 + ' ' + coun + ' ' + village)\n",
    "                    region_permutation[city1].append(coun)\n",
    "                    region_permutation[city1].append(coun + ' ' + village)\n",
    "                region_permutation[city1].append(c2 + ' ' + village)\n",
    "            region_permutation[city1].append(village)\n",
    "\n",
    "\n",
    "\n",
    "    if city2 != '0':\n",
    "        alias_name = city2.split()\n",
    "        if len(alias_name) > 1:\n",
    "            for name in alias_name:\n",
    "                for c in country.split():\n",
    "                    region_permutation[name].append(c)\n",
    "                    region_permutation[name].append(c + ' ' + village)\n",
    "                region_permutation[name].append(village)\n",
    "        else:\n",
    "            for c in country.split():\n",
    "                region_permutation[city2].append(c)\n",
    "                region_permutation[city2].append(c + ' ' + village)\n",
    "            region_permutation[city2].append(village)\n",
    "\n",
    "    if country != '0':\n",
    "        alias_name = country.split()\n",
    "        if len(alias_name) > 1:\n",
    "            for name in alias_name:\n",
    "                region_permutation[name].append(village)\n",
    "        else:\n",
    "            region_permutation[country].append(village)\n",
    "            \n",
    "    if village != '0':\n",
    "        region_permutation[village] = []"
   ],
   "outputs": [],
   "metadata": {}
  },
  {
   "cell_type": "code",
   "execution_count": 24,
   "source": [
    "for key, values in region_permutation.items():\n",
    "    replaced = list(map(lambda x: x.replace('0', ''), values)) # 0 값 치환\n",
    "    replaced = list(map(lambda x: x.strip(), replaced)) # 양 옆 공백제거\n",
    "    replaced = list(filter(lambda x: x != '', replaced)) # '' 제거\n",
    "    replaced = list(set(replaced)) # 중복제거\n",
    "    region_permutation[key] = replaced"
   ],
   "outputs": [],
   "metadata": {}
  },
  {
   "cell_type": "code",
   "execution_count": 26,
   "source": [
    "region_permutation['충북'][:5]\n"
   ],
   "outputs": [
    {
     "output_type": "execute_result",
     "data": {
      "text/plain": [
       "['서원구 개신동', '보은 내북면', '충주 산척면', '산외면', '청주 청원구 북이면']"
      ]
     },
     "metadata": {},
     "execution_count": 26
    }
   ],
   "metadata": {}
  },
  {
   "cell_type": "code",
   "execution_count": 27,
   "source": [
    "total_region = []\n",
    "for key, values in region_permutation.items():\n",
    "    total_region.append(key)\n",
    "    if values:\n",
    "        for val in values:\n",
    "            total_region.append(key + ' ' + val)\n",
    "\n",
    "total_region = list(set(total_region))\n",
    "len(total_region)"
   ],
   "outputs": [
    {
     "output_type": "execute_result",
     "data": {
      "text/plain": [
       "44759"
      ]
     },
     "metadata": {},
     "execution_count": 27
    }
   ],
   "metadata": {}
  },
  {
   "cell_type": "code",
   "execution_count": 29,
   "source": [
    "import pickle\n",
    "\n",
    "with open('./total_region.pickle', 'wb') as f:\n",
    "    pickle.dump(total_region, f)"
   ],
   "outputs": [],
   "metadata": {}
  },
  {
   "cell_type": "code",
   "execution_count": 30,
   "source": [
    "total_region[-10:]"
   ],
   "outputs": [
    {
     "output_type": "execute_result",
     "data": {
      "text/plain": [
       "['경기 가평 상면',\n",
       " '충청남도 아산시 온양3동',\n",
       " '서울특별시 은평구',\n",
       " '강원도 강릉 내곡동',\n",
       " '제주 제주시 도두동',\n",
       " '경기 수원 조원동',\n",
       " '인천광역시 서구 검암경서동',\n",
       " '춘천시 동산면',\n",
       " '장기동',\n",
       " '보성군 율어면']"
      ]
     },
     "metadata": {},
     "execution_count": 30
    }
   ],
   "metadata": {}
  },
  {
   "cell_type": "code",
   "execution_count": 36,
   "source": [
    "split_region = []\n",
    "for total_region in df['total_region'].tolist():\n",
    "    split_region.extend(total_region.split())\n",
    "split_region = list(set(split_region))\n",
    "len(split_region)"
   ],
   "outputs": [
    {
     "output_type": "execute_result",
     "data": {
      "text/plain": [
       "3962"
      ]
     },
     "metadata": {},
     "execution_count": 36
    }
   ],
   "metadata": {}
  },
  {
   "cell_type": "code",
   "execution_count": 37,
   "source": [
    "split_region[:10]"
   ],
   "outputs": [
    {
     "output_type": "execute_result",
     "data": {
      "text/plain": [
       "['길음제2동', '고금면', '동충동', '거제제4동', '수색동', '능곡동', '남산면', '덕연동', '응암동', '청운효자동']"
      ]
     },
     "metadata": {},
     "execution_count": 37
    }
   ],
   "metadata": {}
  },
  {
   "cell_type": "code",
   "execution_count": 38,
   "source": [
    "with open('./split_region.pickle', 'wb') as f:\n",
    "    pickle.dump(split_region, f)"
   ],
   "outputs": [],
   "metadata": {}
  },
  {
   "cell_type": "code",
   "execution_count": null,
   "source": [],
   "outputs": [],
   "metadata": {}
  }
 ],
 "metadata": {
  "orig_nbformat": 4,
  "language_info": {
   "name": "python",
   "version": "3.8.8",
   "mimetype": "text/x-python",
   "codemirror_mode": {
    "name": "ipython",
    "version": 3
   },
   "pygments_lexer": "ipython3",
   "nbconvert_exporter": "python",
   "file_extension": ".py"
  },
  "kernelspec": {
   "name": "python3",
   "display_name": "Python 3.8.8 64-bit ('py3env': conda)"
  },
  "interpreter": {
   "hash": "8c300b68f87a0b34854b9c17a7a0f528a75fc09066f8445722564eb05533ed98"
  }
 },
 "nbformat": 4,
 "nbformat_minor": 2
}