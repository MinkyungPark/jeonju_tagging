{
 "cells": [
  {
   "cell_type": "code",
   "execution_count": 1,
   "source": [
    "import pandas as pd\n",
    "from collections import defaultdict\n",
    "from ast import literal_eval\n",
    "\n",
    "tags = defaultdict(list)\n",
    "df = pd.read_csv('./hypernyms_hyponyms_filtered.csv')"
   ],
   "outputs": [],
   "metadata": {}
  },
  {
   "cell_type": "code",
   "execution_count": 123,
   "source": [
    "tmp = [('현지인', 0.6952130198478699), ('숨겨진', 0.6642776131629944), ('탐방', 0.65677809715271), ('찐맛집', 0.6028860807418823), ('찾았다', 0.5735573768615723), ('로컬', 0.6952130198478699), ('숨은', 0.6952130198478699)]\n",
    "keyword = '로컬명소'\n",
    "for (word, score) in tmp:\n",
    "    tags[keyword].append(word)"
   ],
   "outputs": [],
   "metadata": {}
  },
  {
   "cell_type": "code",
   "execution_count": 124,
   "source": [
    "tags[keyword] = list(set(tags[keyword]))"
   ],
   "outputs": [],
   "metadata": {}
  },
  {
   "cell_type": "code",
   "execution_count": 127,
   "source": [
    "tags.keys()"
   ],
   "outputs": [
    {
     "output_type": "execute_result",
     "data": {
      "text/plain": [
       "dict_keys(['카페', '술집', '노포', '맛집', '소품샵', '복합문화공간', '서점', '전시', '편집샵', '문화유적지', '캠핑', '등산', '관광지', '촬영지', '체험', '혼자', '우정', '연인', '가족', '아이', '사진', '뷰', '운치', '노을', '산책', '테라스', '디저트', '루프탑', '애견', '비건', '모던한', '고풍스러운', '로컬명소'])"
      ]
     },
     "metadata": {},
     "execution_count": 127
    }
   ],
   "metadata": {}
  },
  {
   "cell_type": "code",
   "execution_count": 1,
   "source": [
    "tags['노포']"
   ],
   "outputs": [
    {
     "output_type": "error",
     "ename": "NameError",
     "evalue": "name 'tags' is not defined",
     "traceback": [
      "\u001b[0;31m---------------------------------------------------------------------------\u001b[0m",
      "\u001b[0;31mNameError\u001b[0m                                 Traceback (most recent call last)",
      "\u001b[0;32m<ipython-input-1-74a21294b860>\u001b[0m in \u001b[0;36m<module>\u001b[0;34m\u001b[0m\n\u001b[0;32m----> 1\u001b[0;31m \u001b[0mtags\u001b[0m\u001b[0;34m[\u001b[0m\u001b[0;34m'노포'\u001b[0m\u001b[0;34m]\u001b[0m\u001b[0;34m\u001b[0m\u001b[0;34m\u001b[0m\u001b[0m\n\u001b[0m",
      "\u001b[0;31mNameError\u001b[0m: name 'tags' is not defined"
     ]
    }
   ],
   "metadata": {}
  },
  {
   "cell_type": "code",
   "execution_count": 2,
   "source": [
    "import pickle\n",
    "\n",
    "# with open('./result_data/tags_hyponyms_filtered.pkl', 'wb') as f:\n",
    "#     pickle.dump(tags, f)"
   ],
   "outputs": [],
   "metadata": {}
  },
  {
   "cell_type": "code",
   "execution_count": 3,
   "source": [
    "with open('./result_data/tags_hyponyms_filtered.pkl', 'rb') as f:\n",
    "    test = pickle.load(f)"
   ],
   "outputs": [
    {
     "output_type": "error",
     "ename": "EOFError",
     "evalue": "Ran out of input",
     "traceback": [
      "\u001b[0;31m---------------------------------------------------------------------------\u001b[0m",
      "\u001b[0;31mEOFError\u001b[0m                                  Traceback (most recent call last)",
      "\u001b[0;32m<ipython-input-3-4458446310d4>\u001b[0m in \u001b[0;36m<module>\u001b[0;34m\u001b[0m\n\u001b[1;32m      1\u001b[0m \u001b[0;32mwith\u001b[0m \u001b[0mopen\u001b[0m\u001b[0;34m(\u001b[0m\u001b[0;34m'./result_data/tags_hyponyms_filtered.pkl'\u001b[0m\u001b[0;34m,\u001b[0m \u001b[0;34m'rb'\u001b[0m\u001b[0;34m)\u001b[0m \u001b[0;32mas\u001b[0m \u001b[0mf\u001b[0m\u001b[0;34m:\u001b[0m\u001b[0;34m\u001b[0m\u001b[0;34m\u001b[0m\u001b[0m\n\u001b[0;32m----> 2\u001b[0;31m     \u001b[0mtest\u001b[0m \u001b[0;34m=\u001b[0m \u001b[0mpickle\u001b[0m\u001b[0;34m.\u001b[0m\u001b[0mload\u001b[0m\u001b[0;34m(\u001b[0m\u001b[0mf\u001b[0m\u001b[0;34m)\u001b[0m\u001b[0;34m\u001b[0m\u001b[0;34m\u001b[0m\u001b[0m\n\u001b[0m",
      "\u001b[0;31mEOFError\u001b[0m: Ran out of input"
     ]
    }
   ],
   "metadata": {}
  },
  {
   "cell_type": "code",
   "execution_count": 130,
   "source": [
    "test.keys()"
   ],
   "outputs": [
    {
     "output_type": "execute_result",
     "data": {
      "text/plain": [
       "dict_keys(['카페', '술집', '노포', '맛집', '소품샵', '복합문화공간', '서점', '전시', '편집샵', '문화유적지', '캠핑', '등산', '관광지', '촬영지', '체험', '혼자', '우정', '연인', '가족', '아이', '사진', '뷰', '운치', '노을', '산책', '테라스', '디저트', '루프탑', '애견', '비건', '모던한', '고풍스러운', '로컬명소'])"
      ]
     },
     "metadata": {},
     "execution_count": 130
    }
   ],
   "metadata": {}
  },
  {
   "cell_type": "code",
   "execution_count": 131,
   "source": [
    "test['뷰']"
   ],
   "outputs": [
    {
     "output_type": "execute_result",
     "data": {
      "text/plain": [
       "['멋진뷰',\n",
       " '고즈넉',\n",
       " '바다뷰',\n",
       " '뷰맛',\n",
       " '논밭뷰',\n",
       " '볕이',\n",
       " '물빛',\n",
       " '한눈',\n",
       " '경이',\n",
       " '전망',\n",
       " '전망대',\n",
       " '펼쳐져',\n",
       " '풍광',\n",
       " '비경',\n",
       " '뷰를',\n",
       " '외곽',\n",
       " '내려다',\n",
       " '카페뷰',\n",
       " '창밖',\n",
       " '드라',\n",
       " '바라본',\n",
       " '한눈에',\n",
       " '가마등',\n",
       " '호수뷰',\n",
       " '통유리',\n",
       " '리버뷰',\n",
       " '호수',\n",
       " '저수지',\n",
       " '내려다본',\n",
       " '넓어서',\n",
       " '뷰도',\n",
       " '시티뷰',\n",
       " '노을',\n",
       " '탁트인',\n",
       " '뷰는',\n",
       " '한적한',\n",
       " '뷰깡패',\n",
       " '통창',\n",
       " '마운틴뷰',\n",
       " '여유로움',\n",
       " '뷰맛집',\n",
       " '해질녘',\n",
       " '광경',\n",
       " '확트인',\n",
       " '뷰카페',\n",
       " '경관',\n",
       " '창가',\n",
       " '석양',\n",
       " '풍경이',\n",
       " '운치있',\n",
       " '고택',\n",
       " '한옥뷰',\n",
       " '전경',\n",
       " '뷰좋',\n",
       " '루프탑에',\n",
       " '운치',\n",
       " '근교',\n",
       " '산속에',\n",
       " '절경',\n",
       " '오션뷰',\n",
       " '널찍',\n",
       " '뷰최고',\n",
       " '루프탑',\n",
       " '경치',\n",
       " '야경',\n",
       " '한적',\n",
       " '뷰가',\n",
       " '명당',\n",
       " '조망',\n",
       " '전망좋은집',\n",
       " '눈호강']"
      ]
     },
     "metadata": {},
     "execution_count": 131
    }
   ],
   "metadata": {}
  }
 ],
 "metadata": {
  "orig_nbformat": 4,
  "language_info": {
   "name": "python",
   "version": "3.8.8",
   "mimetype": "text/x-python",
   "codemirror_mode": {
    "name": "ipython",
    "version": 3
   },
   "pygments_lexer": "ipython3",
   "nbconvert_exporter": "python",
   "file_extension": ".py"
  },
  "kernelspec": {
   "name": "python3",
   "display_name": "Python 3.8.8 64-bit ('py3env': conda)"
  },
  "interpreter": {
   "hash": "8c300b68f87a0b34854b9c17a7a0f528a75fc09066f8445722564eb05533ed98"
  }
 },
 "nbformat": 4,
 "nbformat_minor": 2
}