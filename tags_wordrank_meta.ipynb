{
 "cells": [
  {
   "cell_type": "code",
   "execution_count": 1,
   "source": [
    "import pickle\n",
    "\n",
    "with open('./wordrank_data/pk_content_hashtag.pkl', 'rb') as f:\n",
    "    pk_content_hashtag = pickle.load(f)"
   ],
   "outputs": [],
   "metadata": {}
  },
  {
   "cell_type": "code",
   "execution_count": 2,
   "source": [
    "from collections import defaultdict\n",
    "\n",
    "## {'location_pk': texts}\n",
    "loc_pk_texts = defaultdict(list)\n",
    "for pk, dic in pk_content_hashtag.items():\n",
    "    loc_pk_texts[dic['location_pk']].append(dic['join'])"
   ],
   "outputs": [],
   "metadata": {}
  },
  {
   "cell_type": "code",
   "execution_count": 13,
   "source": [
    "import pandas as pd\n",
    "\n",
    "df = pd.read_csv('./wordrank_data/df_loc_keywords_20_mincnt10.csv')"
   ],
   "outputs": [],
   "metadata": {}
  },
  {
   "cell_type": "code",
   "execution_count": 14,
   "source": [
    "num_of_document = []\n",
    "for loc_pk in df['location_pk'].tolist():\n",
    "    num_of_document.append(len(loc_pk_texts[loc_pk]))\n",
    "\n",
    "print(len(df))\n",
    "print(len(num_of_document))"
   ],
   "outputs": [
    {
     "output_type": "stream",
     "name": "stdout",
     "text": [
      "5572\n",
      "5572\n"
     ]
    }
   ],
   "metadata": {}
  },
  {
   "cell_type": "code",
   "execution_count": 10,
   "source": [
    "num_of_document[:2]"
   ],
   "outputs": [
    {
     "output_type": "execute_result",
     "data": {
      "text/plain": [
       "[58532, 316807]"
      ]
     },
     "metadata": {},
     "execution_count": 10
    }
   ],
   "metadata": {}
  },
  {
   "cell_type": "code",
   "execution_count": 15,
   "source": [
    "df['num_of_document'] = pd.Series(num_of_document)\n",
    "df = df[['location_pk', 'name', 'num_of_document', 'keywords_score', 'raw']]\n",
    "df.head()"
   ],
   "outputs": [
    {
     "output_type": "execute_result",
     "data": {
      "text/plain": [
       "       location_pk           name  num_of_document  \\\n",
       "0  221484355286107  Jeonju, Korea            58532   \n",
       "1        245713997         Jeonju           316807   \n",
       "2  345849689434417          베르자르당              280   \n",
       "3        242947360         전주한옥마을            13570   \n",
       "4  110836031109980           카페루츠               43   \n",
       "\n",
       "                                      keywords_score  \\\n",
       "0  [('전주', 1627.6018614566058), ('객리단길', 151.3406...   \n",
       "1  [('전주', 5962.7009065783295), ('일상', 584.442235...   \n",
       "2  [('베르자르당', 10.495910772422272), ('전주', 9.20709...   \n",
       "3  [('전주', 522.7433625150087), ('여행', 97.67013619...   \n",
       "4  [('전주', 5.874608927241462), ('오늘도', 3.18490744...   \n",
       "\n",
       "                                                 raw  \n",
       "0  {'pk': 221484355286107, 'lat': 35.823659221906...  \n",
       "1  {'pk': 245713997, 'lat': 35.8219, 'lng': 127.1...  \n",
       "2  {'pk': 345849689434417, 'lat': 35.362007, 'lng...  \n",
       "3  {'pk': 242947360, 'lat': 37.5287516782, 'lng':...  \n",
       "4  {'pk': 110836031109980, 'lat': 35.821234091394...  "
      ],
      "text/html": [
       "<div>\n",
       "<style scoped>\n",
       "    .dataframe tbody tr th:only-of-type {\n",
       "        vertical-align: middle;\n",
       "    }\n",
       "\n",
       "    .dataframe tbody tr th {\n",
       "        vertical-align: top;\n",
       "    }\n",
       "\n",
       "    .dataframe thead th {\n",
       "        text-align: right;\n",
       "    }\n",
       "</style>\n",
       "<table border=\"1\" class=\"dataframe\">\n",
       "  <thead>\n",
       "    <tr style=\"text-align: right;\">\n",
       "      <th></th>\n",
       "      <th>location_pk</th>\n",
       "      <th>name</th>\n",
       "      <th>num_of_document</th>\n",
       "      <th>keywords_score</th>\n",
       "      <th>raw</th>\n",
       "    </tr>\n",
       "  </thead>\n",
       "  <tbody>\n",
       "    <tr>\n",
       "      <th>0</th>\n",
       "      <td>221484355286107</td>\n",
       "      <td>Jeonju, Korea</td>\n",
       "      <td>58532</td>\n",
       "      <td>[('전주', 1627.6018614566058), ('객리단길', 151.3406...</td>\n",
       "      <td>{'pk': 221484355286107, 'lat': 35.823659221906...</td>\n",
       "    </tr>\n",
       "    <tr>\n",
       "      <th>1</th>\n",
       "      <td>245713997</td>\n",
       "      <td>Jeonju</td>\n",
       "      <td>316807</td>\n",
       "      <td>[('전주', 5962.7009065783295), ('일상', 584.442235...</td>\n",
       "      <td>{'pk': 245713997, 'lat': 35.8219, 'lng': 127.1...</td>\n",
       "    </tr>\n",
       "    <tr>\n",
       "      <th>2</th>\n",
       "      <td>345849689434417</td>\n",
       "      <td>베르자르당</td>\n",
       "      <td>280</td>\n",
       "      <td>[('베르자르당', 10.495910772422272), ('전주', 9.20709...</td>\n",
       "      <td>{'pk': 345849689434417, 'lat': 35.362007, 'lng...</td>\n",
       "    </tr>\n",
       "    <tr>\n",
       "      <th>3</th>\n",
       "      <td>242947360</td>\n",
       "      <td>전주한옥마을</td>\n",
       "      <td>13570</td>\n",
       "      <td>[('전주', 522.7433625150087), ('여행', 97.67013619...</td>\n",
       "      <td>{'pk': 242947360, 'lat': 37.5287516782, 'lng':...</td>\n",
       "    </tr>\n",
       "    <tr>\n",
       "      <th>4</th>\n",
       "      <td>110836031109980</td>\n",
       "      <td>카페루츠</td>\n",
       "      <td>43</td>\n",
       "      <td>[('전주', 5.874608927241462), ('오늘도', 3.18490744...</td>\n",
       "      <td>{'pk': 110836031109980, 'lat': 35.821234091394...</td>\n",
       "    </tr>\n",
       "  </tbody>\n",
       "</table>\n",
       "</div>"
      ]
     },
     "metadata": {},
     "execution_count": 15
    }
   ],
   "metadata": {}
  },
  {
   "cell_type": "code",
   "execution_count": 16,
   "source": [
    "df.to_csv('./wordrank_data/df_loc_keywords_20_mincnt10.csv', index=False, encoding='utf-8')"
   ],
   "outputs": [],
   "metadata": {}
  }
 ],
 "metadata": {
  "orig_nbformat": 4,
  "language_info": {
   "name": "python",
   "version": "3.8.8",
   "mimetype": "text/x-python",
   "codemirror_mode": {
    "name": "ipython",
    "version": 3
   },
   "pygments_lexer": "ipython3",
   "nbconvert_exporter": "python",
   "file_extension": ".py"
  },
  "kernelspec": {
   "name": "python3",
   "display_name": "Python 3.8.8 64-bit ('py3env': conda)"
  },
  "interpreter": {
   "hash": "8c300b68f87a0b34854b9c17a7a0f528a75fc09066f8445722564eb05533ed98"
  }
 },
 "nbformat": 4,
 "nbformat_minor": 2
}